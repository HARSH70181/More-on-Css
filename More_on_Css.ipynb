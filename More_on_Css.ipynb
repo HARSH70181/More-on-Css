{
  "nbformat": 4,
  "nbformat_minor": 0,
  "metadata": {
    "colab": {
      "provenance": []
    },
    "kernelspec": {
      "name": "python3",
      "display_name": "Python 3"
    },
    "language_info": {
      "name": "python"
    }
  },
  "cells": [
    {
      "cell_type": "markdown",
      "source": [
        "1.  Create a navigation bar similar to the below-mentioned image. The navigation bar must contain 5\n",
        "navigation links that are properly placed within the navigation bar using the CSS box model. The navigation\n",
        "items must change their text color on hover."
      ],
      "metadata": {
        "id": "LIJLprl1XFNh"
      }
    },
    {
      "cell_type": "code",
      "source": [
        "ANS.-> HTML"
      ],
      "metadata": {
        "id": "_bAq5pigXMeu"
      },
      "execution_count": null,
      "outputs": []
    },
    {
      "cell_type": "markdown",
      "source": [
        "<!DOCTYPE html>\n",
        "<html lang=\"en\">\n",
        "<head>\n",
        "  <meta charset=\"UTF-8\">\n",
        "  <title>Navigation Bar</title>\n",
        "  <link rel=\"stylesheet\" href=\"style.css\">\n",
        "</head>\n",
        "<body>\n",
        "  <nav class=\"navbar\">\n",
        "    <a href=\"#\">Home</a>\n",
        "    <a href=\"#\">About Us</a>\n",
        "    <a href=\"#\">Contact</a>\n",
        "    <a href=\"#\">Blog</a>\n",
        "    <a href=\"#\">Login</a>\n",
        "  </nav>\n",
        "</body>\n",
        "</html>\n"
      ],
      "metadata": {
        "id": "ySyUtI3YXpxM"
      }
    },
    {
      "cell_type": "markdown",
      "source": [
        "CSS( style.css)"
      ],
      "metadata": {
        "id": "oQXGyNSHXrjT"
      }
    },
    {
      "cell_type": "code",
      "source": [
        "body {\n",
        "  margin: 0;\n",
        "  font-family: Arial, sans-serif;\n",
        "}\n",
        "\n",
        ".navbar {\n",
        "  background-color: #3399ff;\n",
        "  display: flex;\n",
        "  justify-content: center;\n",
        "  padding: 15px 0;\n",
        "}\n",
        "\n",
        ".navbar a {\n",
        "  color: white;\n",
        "  text-decoration: none;\n",
        "  margin: 0 20px;\n",
        "  font-size: 18px;\n",
        "  transition: color 0.3s ease;\n",
        "}\n",
        "\n",
        ".navbar a:hover {\n",
        "  color: lightgray;\n",
        "}\n"
      ],
      "metadata": {
        "id": "AU-d74inX3-K"
      },
      "execution_count": null,
      "outputs": []
    },
    {
      "cell_type": "markdown",
      "source": [
        "2.  Create a div centered with an image and paragraph similar to the image mentioned below."
      ],
      "metadata": {
        "id": "VA-DvqwFYIYf"
      }
    },
    {
      "cell_type": "markdown",
      "source": [
        "ANS.-> HTML"
      ],
      "metadata": {
        "id": "QyZaSpRda6V_"
      }
    },
    {
      "cell_type": "code",
      "source": [
        "<!DOCTYPE html>\n",
        "<html lang=\"en\">\n",
        "<head>\n",
        "  <meta charset=\"UTF-8\">\n",
        "  <title>Card</title>\n",
        "  <link rel=\"stylesheet\" href=\"style.css\">\n",
        "</head>\n",
        "<body>\n",
        "  <div class=\"card\">\n",
        "    <img src=\"https://via.placeholder.com/300x200\" alt=\"Course Image\">\n",
        "    <p>Course Name: PW Skills full stack web development</p>\n",
        "  </div>\n",
        "</body>\n",
        "</html>"
      ],
      "metadata": {
        "id": "x6GVjb1Ka-hZ"
      },
      "execution_count": null,
      "outputs": []
    },
    {
      "cell_type": "markdown",
      "source": [
        "CSS (style.css)"
      ],
      "metadata": {
        "id": "Ew3-Vh8BbH4q"
      }
    },
    {
      "cell_type": "code",
      "source": [
        "body {\n",
        "  margin: 0;\n",
        "  padding: 0;\n",
        "  background-color: #fefbe9;\n",
        "  display: flex;\n",
        "  justify-content: center;\n",
        "  align-items: center;\n",
        "  height: 100vh;\n",
        "  font-family: Arial, sans-serif;\n",
        "}\n",
        "\n",
        ".card {\n",
        "  background-color: #ffc107;\n",
        "  padding: 15px;\n",
        "  border-radius: 15px;\n",
        "  text-align: center;\n",
        "  box-shadow: 0 0 10px rgba(0,0,0,0.2);\n",
        "}\n",
        "\n",
        ".card img {\n",
        "  max-width: 100%;\n",
        "  border-radius: 10px;\n",
        "  margin-bottom: 10px;\n",
        "}\n",
        "\n",
        ".card p {\n",
        "  margin: 0;\n",
        "  font-weight: bold;\n",
        "}"
      ],
      "metadata": {
        "id": "ZybjP8B9bQ9I"
      },
      "execution_count": null,
      "outputs": []
    },
    {
      "cell_type": "markdown",
      "source": [
        "3. Create a navigation bar similar to question 1. For each navigation item, use a different border style&"
      ],
      "metadata": {
        "id": "H26UwAv5dLfE"
      }
    },
    {
      "cell_type": "markdown",
      "source": [
        "ANS.-> HTML"
      ],
      "metadata": {
        "id": "vlmFanZmdQgf"
      }
    },
    {
      "cell_type": "code",
      "source": [
        "<!DOCTYPE html>\n",
        "<html lang=\"en\">\n",
        "<head>\n",
        "  <meta charset=\"UTF-8\">\n",
        "  <title>Navigation Bar with Borders</title>\n",
        "  <link rel=\"stylesheet\" href=\"style.css\">\n",
        "</head>\n",
        "<body>\n",
        "  <nav class=\"navbar\">\n",
        "    <a href=\"#\" class=\"nav-item home\">Home</a>\n",
        "    <a href=\"#\" class=\"nav-item about\">About Us</a>\n",
        "    <a href=\"#\" class=\"nav-item contact\">Contact</a>\n",
        "    <a href=\"#\" class=\"nav-item blog\">Blog</a>\n",
        "    <a href=\"#\" class=\"nav-item login\">Login</a>\n",
        "  </nav>\n",
        "</body>\n",
        "</html>"
      ],
      "metadata": {
        "id": "Gv3lyJ6idTll"
      },
      "execution_count": null,
      "outputs": []
    },
    {
      "cell_type": "markdown",
      "source": [
        "CSS (style.css)"
      ],
      "metadata": {
        "id": "KuOiRao6dZp5"
      }
    },
    {
      "cell_type": "code",
      "source": [
        "body {\n",
        "  margin: 0;\n",
        "  font-family: Arial, sans-serif;\n",
        "}\n",
        "\n",
        ".navbar {\n",
        "  background-color: #3399ff;\n",
        "  display: flex;\n",
        "  justify-content: center;\n",
        "  padding: 15px 0;\n",
        "}\n",
        "\n",
        ".nav-item {\n",
        "  color: white;\n",
        "  text-decoration: none;\n",
        "  margin: 0 20px;\n",
        "  font-size: 18px;\n",
        "  padding: 8px 12px;\n",
        "  transition: color 0.3s ease;\n",
        "}\n",
        "\n",
        ".nav-item:hover {\n",
        "  color: lightgray;\n",
        "}\n",
        "\n",
        "/* Different border styles */\n",
        ".home {\n",
        "  border: 2px solid white;\n",
        "}\n",
        "\n",
        ".about {\n",
        "  border: 2px dashed white;\n",
        "}\n",
        "\n",
        ".contact {\n",
        "  border: 2px dotted white;\n",
        "}\n",
        "\n",
        ".blog {\n",
        "  border: 2px double white;\n",
        "}\n",
        "\n",
        ".login {\n",
        "  border: 2px groove white;\n",
        "}"
      ],
      "metadata": {
        "id": "0gVz_xBjdi4q"
      },
      "execution_count": null,
      "outputs": []
    },
    {
      "cell_type": "markdown",
      "source": [
        "4.  Create a simple webpage with an image and make the image circular using border-radius"
      ],
      "metadata": {
        "id": "Bg5mYSR9dv-j"
      }
    },
    {
      "cell_type": "markdown",
      "source": [
        "ANS.-> HTML + CSS Code: Circular Image"
      ],
      "metadata": {
        "id": "fXgmApV_d6Fm"
      }
    },
    {
      "cell_type": "code",
      "source": [
        "<!DOCTYPE html>\n",
        "<html lang=\"en\">\n",
        "<head>\n",
        "  <meta charset=\"UTF-8\">\n",
        "  <title>Circular Image Example</title>\n",
        "  <style>\n",
        "    body {\n",
        "      text-align: center;\n",
        "      margin-top: 50px;\n",
        "      font-family: Arial, sans-serif;\n",
        "    }\n",
        "\n",
        "    .circle-image {\n",
        "      width: 200px;\n",
        "      height: 200px;\n",
        "      border-radius: 50%; /* Makes the image circular */\n",
        "      object-fit: cover;  /* Ensures the image fills the circle nicely */\n",
        "      border: 4px solid #555; /* Optional border */\n",
        "    }\n",
        "  </style>\n",
        "</head>\n",
        "<body>\n",
        "\n",
        "  <h1>My Circular Image</h1>\n",
        "  <img src=\"https://via.placeholder.com/300\" alt=\"Sample Image\" class=\"circle-image\">\n",
        "\n",
        "</body>\n",
        "</html>\n"
      ],
      "metadata": {
        "id": "Ajfeiu-xd-BA"
      },
      "execution_count": null,
      "outputs": []
    },
    {
      "cell_type": "markdown",
      "source": [
        "5.  Create a simple blog website about Google fonts. The webpage must have the heading with “Oswald” font\n",
        "align center to the page, below the heading have an image of Google fonts and a paragraph about Google\n",
        "fonts in font “Montserrat” paragraph font style should be“montserrat” font&\n"
      ],
      "metadata": {
        "id": "50lQLjBneKQB"
      }
    },
    {
      "cell_type": "markdown",
      "source": [
        "ANS.-> simple HTML + CSS blog-style webpage about Google Fonts. It includes:\n",
        "\n",
        "A centered heading in Oswald font\n",
        "\n",
        "An image of Google Fonts\n",
        "\n",
        "A paragraph styled using the Montserrat font\n",
        "\n",
        "Google Fonts are imported using a <link> in the <head>.\n",
        "\n",
        " HTML + CSS Code: Simple Blog Page with Google Fonts"
      ],
      "metadata": {
        "id": "RjtF-UeQeNLy"
      }
    },
    {
      "cell_type": "code",
      "source": [
        "<!DOCTYPE html>\n",
        "<html lang=\"en\">\n",
        "<head>\n",
        "  <meta charset=\"UTF-8\">\n",
        "  <title>Google Fonts Blog</title>\n",
        "\n",
        "  <!-- Importing Google Fonts: Oswald & Montserrat -->\n",
        "  <link href=\"https://fonts.googleapis.com/css2?family=Montserrat&family=Oswald&display=swap\" rel=\"stylesheet\">\n",
        "\n",
        "  <style>\n",
        "    body {\n",
        "      margin: 20px;\n",
        "      font-family: 'Montserrat', sans-serif;\n",
        "      background-color: #f9f9f9;\n",
        "      color: #333;\n",
        "    }\n",
        "\n",
        "    h1 {\n",
        "      font-family: 'Oswald', sans-serif;\n",
        "      text-align: center;\n",
        "      font-size: 3em;\n",
        "      margin-bottom: 20px;\n",
        "    }\n",
        "\n",
        "    .image-container {\n",
        "      text-align: center;\n",
        "      margin-bottom: 20px;\n",
        "    }\n",
        "\n",
        "    .image-container img {\n",
        "      max-width: 90%;\n",
        "      height: auto;\n",
        "      border-radius: 10px;\n",
        "    }\n",
        "\n",
        "    .content {\n",
        "      max-width: 800px;\n",
        "      margin: 0 auto;\n",
        "      font-size: 1.1em;\n",
        "      line-height: 1.6;\n",
        "    }\n",
        "  </style>\n",
        "</head>\n",
        "<body>\n",
        "\n",
        "  <h1>Google Fonts</h1>\n",
        "\n",
        "  <div class=\"image-container\">\n",
        "    <img src=\"https://upload.wikimedia.org/wikipedia/commons/thumb/2/2f/Google_Fonts_logo.svg/2560px-Google_Fonts_logo.svg.png\" alt=\"Google Fonts\">\n",
        "  </div>\n",
        "\n",
        "  <div class=\"content\">\n",
        "    <p>\n",
        "      Google Fonts is a library of over 1,400 free licensed font families, an interactive web directory for browsing them, and APIs for using them via CSS and Android. It was launched in 2010 and has since become one of the most widely used resources for adding high-quality typography to websites and apps. With Google Fonts, designers and developers can choose from a wide variety of typefaces to improve their website's appearance and readability, all while ensuring fast load times and wide compatibility.\n",
        "    </p>\n",
        "  </div>\n",
        "\n",
        "</body>\n",
        "</html>\n"
      ],
      "metadata": {
        "id": "H2vzon2keX3Y"
      },
      "execution_count": null,
      "outputs": []
    },
    {
      "cell_type": "markdown",
      "source": [
        "6. Create a simple website as mentioned in the below image. You can get the assets by visiting https://pwskills.com/about-us."
      ],
      "metadata": {
        "id": "stMEBMsyhF0v"
      }
    },
    {
      "cell_type": "markdown",
      "source": [
        "ANS.-> HTML"
      ],
      "metadata": {
        "id": "mCVJrr5ZhPWD"
      }
    },
    {
      "cell_type": "code",
      "source": [
        "<!DOCTYPE html>\n",
        "<html lang=\"en\">\n",
        "<head>\n",
        "  <meta charset=\"UTF-8\">\n",
        "  <title>Google Fonts Blog</title>\n",
        "\n",
        "  <!-- Google Fonts -->\n",
        "  <link href=\"https://fonts.googleapis.com/css2?family=Montserrat&family=Oswald&display=swap\" rel=\"stylesheet\">\n",
        "\n",
        "  <link rel=\"stylesheet\" href=\"style.css\">\n",
        "</head>\n",
        "<body>\n",
        "  <div class=\"container\">\n",
        "    <h1>Google Fonts</h1>\n",
        "    <img src=\"https://upload.wikimedia.org/wikipedia/commons/2/2a/Google_Fonts_logo.svg\" alt=\"Google Fonts Logo\" class=\"image\">\n",
        "    <p>\n",
        "      Google Fonts provides an intuitive and robust directory of open-source fonts. Developers and designers use it to enhance websites with beautiful typography. With easy embedding and vast font options, it’s a go-to tool for web design.\n",
        "    </p>\n",
        "  </div>\n",
        "</body>\n",
        "</html>"
      ],
      "metadata": {
        "id": "5WROk-rDhUVc"
      },
      "execution_count": null,
      "outputs": []
    },
    {
      "cell_type": "markdown",
      "source": [
        "CSS ( style.css )"
      ],
      "metadata": {
        "id": "_9bAzQC7hkwy"
      }
    },
    {
      "cell_type": "code",
      "source": [
        "body {\n",
        "  margin: 0;\n",
        "  padding: 0;\n",
        "  font-family: 'Montserrat', sans-serif;\n",
        "  background-color: #f9f9f9;\n",
        "  text-align: center;\n",
        "}\n",
        "\n",
        "h1 {\n",
        "  font-family: 'Oswald', sans-serif;\n",
        "  font-size: 36px;\n",
        "  margin-top: 50px;\n",
        "}\n",
        "\n",
        ".container {\n",
        "  max-width: 700px;\n",
        "  margin: 0 auto;\n",
        "  padding: 20px;\n",
        "}\n",
        "\n",
        ".image {\n",
        "  max-width: 100%;\n",
        "  height: auto;\n",
        "  margin: 20px 0;\n",
        "}\n",
        "\n",
        "p {\n",
        "  font-size: 18px;\n",
        "  line-height: 1.6;\n",
        "}"
      ],
      "metadata": {
        "id": "rR6Fz-g_hrp0"
      },
      "execution_count": null,
      "outputs": []
    },
    {
      "cell_type": "markdown",
      "source": [
        "7. Create a simple webpage with a card similar to question number 2. The card must be semi-transparent as\n",
        "default and on hovering the card must be displayed clearly. Use CSS opacity to achieve this output."
      ],
      "metadata": {
        "id": "-O6ogqFiiHh7"
      }
    },
    {
      "cell_type": "markdown",
      "source": [
        "ANS.-> HTML (index.html)"
      ],
      "metadata": {
        "id": "HvrQXGaqiK3c"
      }
    },
    {
      "cell_type": "code",
      "source": [
        "<!DOCTYPE html>\n",
        "<html lang=\"en\">\n",
        "<head>\n",
        "  <meta charset=\"UTF-8\">\n",
        "  <title>Hover Card</title>\n",
        "  <link rel=\"stylesheet\" href=\"style.css\">\n",
        "</head>\n",
        "<body>\n",
        "  <div class=\"card\">\n",
        "    <img src=\"https://pwskills.com/images/homePage/hero-bg.png\" alt=\"Web Development\">\n",
        "    <p><strong>Course Name:</strong> PW Skills web development</p>\n",
        "  </div>\n",
        "</body>\n",
        "</html>"
      ],
      "metadata": {
        "id": "qdmGnc7uidg_"
      },
      "execution_count": null,
      "outputs": []
    },
    {
      "cell_type": "markdown",
      "source": [
        "CSS (style.css)"
      ],
      "metadata": {
        "id": "ftymQzvJikEW"
      }
    },
    {
      "cell_type": "code",
      "source": [
        "body {\n",
        "  margin: 0;\n",
        "  padding: 0;\n",
        "  font-family: Arial, sans-serif;\n",
        "  display: flex;\n",
        "  justify-content: center;\n",
        "  align-items: center;\n",
        "  height: 100vh;\n",
        "  background-color: #f0f0f0;\n",
        "}\n",
        "\n",
        ".card {\n",
        "  width: 300px;\n",
        "  background-color: #a4e0db;\n",
        "  border-radius: 10px;\n",
        "  padding: 10px;\n",
        "  text-align: center;\n",
        "  opacity: 0.4; /* semi-transparent */\n",
        "  transition: opacity 0.3s ease;\n",
        "}\n",
        "\n",
        ".card img {\n",
        "  width: 100%;\n",
        "  border-radius: 10px;\n",
        "}\n",
        "\n",
        ".card:hover {\n",
        "  opacity: 1; /* fully visible on hover */\n",
        "}"
      ],
      "metadata": {
        "id": "A_Am3mDCis4D"
      },
      "execution_count": null,
      "outputs": []
    },
    {
      "cell_type": "markdown",
      "source": [
        "8. Create a simple list of items as mentioned in the below image."
      ],
      "metadata": {
        "id": "MVBNbgomix42"
      }
    },
    {
      "cell_type": "markdown",
      "source": [
        "ANS.-> HTML(index.html)"
      ],
      "metadata": {
        "id": "x7x1KMjWjGU2"
      }
    },
    {
      "cell_type": "code",
      "source": [
        "<!DOCTYPE html>\n",
        "<html lang=\"en\">\n",
        "<head>\n",
        "  <meta charset=\"UTF-8\">\n",
        "  <title>Requirements List</title>\n",
        "  <link rel=\"stylesheet\" href=\"style.css\">\n",
        "</head>\n",
        "<body>\n",
        "  <div class=\"requirements-box\">\n",
        "    <h1>Requirements</h1>\n",
        "    <ol type=\"i\">\n",
        "      <li>System with minimum i3 processor or better.</li>\n",
        "      <li>At least 4 GB of RAM.</li>\n",
        "      <li>Working internet connection.</li>\n",
        "      <li>Dedication to learn</li>\n",
        "    </ol>\n",
        "  </div>\n",
        "</body>\n",
        "</html>"
      ],
      "metadata": {
        "id": "hjla4HXRjMgW"
      },
      "execution_count": null,
      "outputs": []
    },
    {
      "cell_type": "markdown",
      "source": [
        "CSS(style.css)"
      ],
      "metadata": {
        "id": "AhllcU3VjZM7"
      }
    },
    {
      "cell_type": "code",
      "source": [
        "body {\n",
        "  font-family: 'Times New Roman', serif;\n",
        "  background-color: #fdfdfd;\n",
        "  display: flex;\n",
        "  justify-content: center;\n",
        "  align-items: center;\n",
        "  height: 100vh;\n",
        "}\n",
        "\n",
        ".requirements-box {\n",
        "  border: 2px solid #000;\n",
        "  padding: 30px;\n",
        "  max-width: 600px;\n",
        "}\n",
        "\n",
        ".requirements-box h1 {\n",
        "  font-size: 36px;\n",
        "  font-weight: bold;\n",
        "  margin-bottom: 20px;\n",
        "}\n",
        "\n",
        ".requirements-box ol {\n",
        "  font-size: 20px;\n",
        "  line-height: 1.6;\n",
        "}"
      ],
      "metadata": {
        "id": "w8ayHC2YjdA6"
      },
      "execution_count": null,
      "outputs": []
    }
  ]
}